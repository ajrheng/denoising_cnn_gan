{
 "cells": [
  {
   "cell_type": "code",
   "execution_count": 1,
   "metadata": {},
   "outputs": [],
   "source": [
    "import numpy as np\n",
    "import os\n",
    "from PIL import Image\n",
    "import matplotlib.pyplot as plt\n",
    "from torch.utils.data import Dataset, DataLoader\n",
    "from torchvision import transforms\n",
    "import torch\n",
    "from skimage.util import random_noise"
   ]
  },
  {
   "cell_type": "code",
   "execution_count": 2,
   "metadata": {},
   "outputs": [],
   "source": [
    "from read_raw_data import get_mias_data, get_dx_data\n",
    "from process_dataloaders import mias_dataset, dx_dataset\n",
    "from gaussian_noise_transform import GaussianNoise"
   ]
  },
  {
   "cell_type": "markdown",
   "metadata": {},
   "source": [
    "## Process MIAS train and test data"
   ]
  },
  {
   "cell_type": "code",
   "execution_count": 3,
   "metadata": {},
   "outputs": [],
   "source": [
    "img_size = 128 # 128 x 128 pixels\n",
    "\n",
    "clean_transform = transforms.Compose([transforms.ToTensor(),\n",
    "                                      transforms.Resize(img_size),\n",
    "                                     ])\n",
    "\n",
    "noise_transform = transforms.Compose([\n",
    "                                     ]) # no need for noisy_transform"
   ]
  },
  {
   "cell_type": "code",
   "execution_count": 7,
   "metadata": {},
   "outputs": [],
   "source": [
    "#train data\n",
    "\n",
    "mias_train_data = get_mias_data(\"mias_train_raw\") # store all raw MIAS files in /mias_train_raw\n",
    "mias_train_dataset = mias_dataset(mias_train_data, clean_transform, noise_transform)\n",
    "mias_train_data_loader = DataLoader(dataset=mias_train_dataset, batch_size=len(mias_train_dataset), shuffle=False) # full batch"
   ]
  },
  {
   "cell_type": "code",
   "execution_count": 20,
   "metadata": {},
   "outputs": [],
   "source": [
    "# Write to file\n",
    "mias_train, _ = next(iter(mias_train_data_loader))\n",
    "torch.save(mias_train, \"mias_train.pt\")"
   ]
  },
  {
   "cell_type": "code",
   "execution_count": 21,
   "metadata": {},
   "outputs": [],
   "source": [
    "#redefine noise transform\n",
    "noise_transform = transforms.Compose([transforms.ToTensor(),\n",
    "                                      transforms.Resize(img_size), \n",
    "                                      GaussianNoise(0,0.005), ## add gaussian noise of mean 0 var 0.01\n",
    "                                     ])"
   ]
  },
  {
   "cell_type": "code",
   "execution_count": 22,
   "metadata": {},
   "outputs": [],
   "source": [
    "#train data\n",
    "\n",
    "mias_test_data = get_mias_data(\"mias_test_raw\",test=True) # store all raw MIAS files in /mias_test_raw\n",
    "mias_test_dataset = mias_dataset(mias_test_data, clean_transform, noise_transform)\n",
    "mias_test_data_loader = DataLoader(dataset=mias_test_dataset, batch_size=len(mias_test_dataset), shuffle=False) # full batch"
   ]
  },
  {
   "cell_type": "code",
   "execution_count": 23,
   "metadata": {},
   "outputs": [],
   "source": [
    "# Write to file\n",
    "\n",
    "mias_clean_test, mias_noisy_test = next(iter(mias_test_data_loader))\n",
    "torch.save(mias_clean_test, \"mias_clean_test.pt\")\n",
    "torch.save(mias_noisy_test, \"mias_noisy_test.pt\")"
   ]
  },
  {
   "cell_type": "markdown",
   "metadata": {},
   "source": [
    "## Process DX train and test data"
   ]
  },
  {
   "cell_type": "code",
   "execution_count": 24,
   "metadata": {},
   "outputs": [],
   "source": [
    "img_size = 128 # 128 x 128 pixels\n",
    "\n",
    "clean_transform = transforms.Compose([transforms.ToTensor(),\n",
    "                                      transforms.Resize(img_size),\n",
    "                                     ])\n",
    "\n",
    "noise_transform = transforms.Compose([\n",
    "                                     ]) # no need for noisy_transform"
   ]
  },
  {
   "cell_type": "code",
   "execution_count": 25,
   "metadata": {},
   "outputs": [],
   "source": [
    "#train data\n",
    "\n",
    "dx_train_data = get_dx_data(\"dx_train_raw\") # store all raw DX files in /dx_train_raw\n",
    "dx_train_dataset = dx_dataset(dx_train_data, clean_transform, noise_transform)\n",
    "dx_train_data_loader = DataLoader(dataset=dx_train_dataset, batch_size=len(dx_train_dataset), shuffle=False) # full batch"
   ]
  },
  {
   "cell_type": "code",
   "execution_count": 26,
   "metadata": {},
   "outputs": [],
   "source": [
    "# Write to file\n",
    "dx_train, _ = next(iter(dx_train_data_loader))\n",
    "torch.save(dx_train, \"dx_train.pt\")"
   ]
  },
  {
   "cell_type": "code",
   "execution_count": 28,
   "metadata": {},
   "outputs": [],
   "source": [
    "#redefine noise transform\n",
    "noise_transform = transforms.Compose([transforms.ToTensor(),\n",
    "                                      transforms.Resize(img_size), \n",
    "                                      GaussianNoise(0,0.005), ## add gaussian noise of mean 0 var 0.01\n",
    "                                     ])"
   ]
  },
  {
   "cell_type": "code",
   "execution_count": 29,
   "metadata": {},
   "outputs": [],
   "source": [
    "#train data\n",
    "\n",
    "dx_test_data = get_dx_data(\"dx_test_raw\",test=True) # store all raw DX files in /dx_test_raw\n",
    "dx_test_dataset = dx_dataset(dx_test_data, clean_transform, noise_transform)\n",
    "dx_test_data_loader = DataLoader(dataset=dx_test_dataset, batch_size=len(dx_test_dataset), shuffle=False) # full batch"
   ]
  },
  {
   "cell_type": "code",
   "execution_count": 30,
   "metadata": {},
   "outputs": [],
   "source": [
    "# Write to file\n",
    "\n",
    "dx_clean_test, dx_noisy_test = next(iter(dx_test_data_loader))\n",
    "torch.save(dx_clean_test, \"dx_clean_test.pt\")\n",
    "torch.save(dx_noisy_test, \"dx_noisy_test.pt\")"
   ]
  },
  {
   "cell_type": "code",
   "execution_count": null,
   "metadata": {},
   "outputs": [],
   "source": []
  }
 ],
 "metadata": {
  "kernelspec": {
   "display_name": "Python 3",
   "language": "python",
   "name": "python3"
  },
  "language_info": {
   "codemirror_mode": {
    "name": "ipython",
    "version": 3
   },
   "file_extension": ".py",
   "mimetype": "text/x-python",
   "name": "python",
   "nbconvert_exporter": "python",
   "pygments_lexer": "ipython3",
   "version": "3.8.3"
  }
 },
 "nbformat": 4,
 "nbformat_minor": 4
}
