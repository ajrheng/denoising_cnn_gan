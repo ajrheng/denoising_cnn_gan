{
 "cells": [
  {
   "cell_type": "code",
   "execution_count": 1,
   "metadata": {},
   "outputs": [],
   "source": [
    "import numpy as np\n",
    "import os\n",
    "from PIL import Image\n",
    "import matplotlib.pyplot as plt\n",
    "from torch.utils.data import Dataset, DataLoader\n",
    "from torchvision import transforms\n",
    "import torch\n",
    "from skimage.util import random_noise\n",
    "import torch.nn as nn\n",
    "import torch.nn.functional as F\n",
    "import torch.optim as optim"
   ]
  },
  {
   "cell_type": "code",
   "execution_count": 2,
   "metadata": {},
   "outputs": [],
   "source": [
    "from dataloaders import mias_dataset\n",
    "from model import cnn_autoencoder\n",
    "from gaussian_noise_transform import GaussianNoise"
   ]
  },
  {
   "cell_type": "code",
   "execution_count": 3,
   "metadata": {},
   "outputs": [
    {
     "name": "stdout",
     "output_type": "stream",
     "text": [
      "cuda:0\n"
     ]
    }
   ],
   "source": [
    "device = torch.device(\"cuda:0\" if torch.cuda.is_available() else \"cpu\")\n",
    "print(device)"
   ]
  },
  {
   "cell_type": "code",
   "execution_count": 4,
   "metadata": {},
   "outputs": [],
   "source": [
    "clean_transform = transforms.Compose([ \n",
    "                                     ])\n",
    "\n",
    "noise_transform = transforms.Compose([GaussianNoise(0,0.005), ## add gaussian noise of mean 0 var 0.01\n",
    "                                     ])"
   ]
  },
  {
   "cell_type": "code",
   "execution_count": 5,
   "metadata": {},
   "outputs": [],
   "source": [
    "mias_train_data = torch.load('mias_train.pt')\n",
    "mias_dataset_ = mias_dataset(mias_train_data, clean_transform, noise_transform)\n",
    "mias_data_loader = DataLoader(dataset=mias_dataset_, batch_size=10, shuffle=True) "
   ]
  },
  {
   "cell_type": "code",
   "execution_count": 6,
   "metadata": {},
   "outputs": [],
   "source": [
    "mias_clean_test = torch.load('mias_clean_test.pt')\n",
    "mias_noisy_test = torch.load('mias_noisy_test.pt')\n",
    "mias_clean_test = mias_clean_test.float()\n",
    "mias_noisy_test = mias_noisy_test.float()\n",
    "mias_clean_test = mias_clean_test.to(device)\n",
    "mias_noisy_test = mias_noisy_test.to(device);"
   ]
  },
  {
   "cell_type": "code",
   "execution_count": 9,
   "metadata": {},
   "outputs": [
    {
     "data": {
      "text/plain": [
       "cnn_autoencoder(\n",
       "  (conv1): Conv2d(1, 64, kernel_size=(3, 3), stride=(1, 1), padding=(1, 1))\n",
       "  (pool1): MaxPool2d(kernel_size=2, stride=2, padding=0, dilation=1, ceil_mode=False)\n",
       "  (conv2): Conv2d(64, 64, kernel_size=(3, 3), stride=(1, 1), padding=(1, 1))\n",
       "  (pool2): MaxPool2d(kernel_size=2, stride=2, padding=0, dilation=1, ceil_mode=False)\n",
       "  (conv3): Conv2d(64, 64, kernel_size=(3, 3), stride=(1, 1), padding=(1, 1))\n",
       "  (upsamp4): Upsample(scale_factor=2.0, mode=nearest)\n",
       "  (conv4): Conv2d(64, 64, kernel_size=(3, 3), stride=(1, 1), padding=(1, 1))\n",
       "  (upsamp5): Upsample(scale_factor=2.0, mode=nearest)\n",
       "  (conv5): Conv2d(64, 1, kernel_size=(3, 3), stride=(1, 1), padding=(1, 1))\n",
       ")"
      ]
     },
     "execution_count": 9,
     "metadata": {},
     "output_type": "execute_result"
    }
   ],
   "source": [
    "mias_net = cnn_autoencoder()\n",
    "mias_net.to(device)\n",
    "criterion = nn.BCELoss()\n",
    "optimizer = optim.Adam(mias_net.parameters(), lr=0.001)\n",
    "mias_net.train()"
   ]
  },
  {
   "cell_type": "code",
   "execution_count": 10,
   "metadata": {},
   "outputs": [
    {
     "name": "stdout",
     "output_type": "stream",
     "text": [
      "Epoch: 0, train loss: 0.333238, test loss 0.270467\n",
      "Epoch: 1, train loss: 0.319087, test loss 0.269362\n",
      "Epoch: 2, train loss: 0.318123, test loss 0.271115\n",
      "Epoch: 3, train loss: 0.317486, test loss 0.269075\n",
      "Epoch: 4, train loss: 0.317222, test loss 0.270509\n",
      "Epoch: 5, train loss: 0.317085, test loss 0.268362\n",
      "Epoch: 6, train loss: 0.316941, test loss 0.268700\n",
      "Epoch: 7, train loss: 0.316749, test loss 0.268159\n",
      "Epoch: 8, train loss: 0.316863, test loss 0.271076\n",
      "Epoch: 9, train loss: 0.316506, test loss 0.269085\n",
      "Epoch: 10, train loss: 0.316277, test loss 0.269293\n",
      "Epoch: 11, train loss: 0.316074, test loss 0.268971\n",
      "Epoch: 12, train loss: 0.316325, test loss 0.268171\n"
     ]
    },
    {
     "ename": "KeyboardInterrupt",
     "evalue": "",
     "output_type": "error",
     "traceback": [
      "\u001b[1;31m---------------------------------------------------------------------------\u001b[0m",
      "\u001b[1;31mKeyboardInterrupt\u001b[0m                         Traceback (most recent call last)",
      "\u001b[1;32m<ipython-input-10-fd731cec2ed0>\u001b[0m in \u001b[0;36m<module>\u001b[1;34m\u001b[0m\n\u001b[0;32m     13\u001b[0m         \u001b[0mtrain_loss\u001b[0m\u001b[1;33m.\u001b[0m\u001b[0mbackward\u001b[0m\u001b[1;33m(\u001b[0m\u001b[1;33m)\u001b[0m\u001b[1;33m\u001b[0m\u001b[1;33m\u001b[0m\u001b[0m\n\u001b[0;32m     14\u001b[0m         \u001b[0moptimizer\u001b[0m\u001b[1;33m.\u001b[0m\u001b[0mstep\u001b[0m\u001b[1;33m(\u001b[0m\u001b[1;33m)\u001b[0m\u001b[1;33m\u001b[0m\u001b[1;33m\u001b[0m\u001b[0m\n\u001b[1;32m---> 15\u001b[1;33m         \u001b[0mrunning_train_loss\u001b[0m \u001b[1;33m+=\u001b[0m \u001b[0mtrain_loss\u001b[0m\u001b[1;33m.\u001b[0m\u001b[0mitem\u001b[0m\u001b[1;33m(\u001b[0m\u001b[1;33m)\u001b[0m\u001b[1;33m\u001b[0m\u001b[1;33m\u001b[0m\u001b[0m\n\u001b[0m\u001b[0;32m     16\u001b[0m         \u001b[0mcounter\u001b[0m \u001b[1;33m+=\u001b[0m \u001b[1;36m1\u001b[0m\u001b[1;33m\u001b[0m\u001b[1;33m\u001b[0m\u001b[0m\n\u001b[0;32m     17\u001b[0m \u001b[1;33m\u001b[0m\u001b[0m\n",
      "\u001b[1;31mKeyboardInterrupt\u001b[0m: "
     ]
    }
   ],
   "source": [
    "for epoch in range(1000):\n",
    "    \n",
    "    running_train_loss = 0\n",
    "    counter = 0\n",
    "    for clean, noisy in mias_data_loader:\n",
    "        \n",
    "        clean = clean.to(device)\n",
    "        noisy = noisy.to(device)\n",
    "        \n",
    "        optimizer.zero_grad()\n",
    "        output = mias_net(noisy.float())\n",
    "        train_loss = criterion(output, clean.float())\n",
    "        train_loss.backward()\n",
    "        optimizer.step()\n",
    "        running_train_loss += train_loss.item()\n",
    "        counter += 1\n",
    "    \n",
    "    if (epoch+10) % 1 == 0:\n",
    "        mias_net.eval()\n",
    "        test_output = mias_net(mias_noisy_test)\n",
    "        test_loss = criterion(test_output, mias_clean_test)\n",
    "        test_loss = test_loss.item()\n",
    "        mias_net.train()\n",
    "        print(\"Epoch: {:d}, train loss: {:f}, test loss {:f}\".format(epoch, running_train_loss/counter, test_loss))"
   ]
  },
  {
   "cell_type": "code",
   "execution_count": null,
   "metadata": {},
   "outputs": [],
   "source": []
  }
 ],
 "metadata": {
  "kernelspec": {
   "display_name": "Python 3",
   "language": "python",
   "name": "python3"
  },
  "language_info": {
   "codemirror_mode": {
    "name": "ipython",
    "version": 3
   },
   "file_extension": ".py",
   "mimetype": "text/x-python",
   "name": "python",
   "nbconvert_exporter": "python",
   "pygments_lexer": "ipython3",
   "version": "3.8.3"
  }
 },
 "nbformat": 4,
 "nbformat_minor": 4
}
