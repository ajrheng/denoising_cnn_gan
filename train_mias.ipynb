{
 "cells": [
  {
   "cell_type": "code",
   "execution_count": null,
   "metadata": {},
   "outputs": [],
   "source": [
    "import numpy as np\n",
    "import os\n",
    "import matplotlib.pyplot as plt\n",
    "from torch.utils.data import Dataset, DataLoader\n",
    "from torchvision import transforms\n",
    "import torch\n",
    "import torch.nn as nn\n",
    "import torch.nn.functional as F\n",
    "import torch.optim as optim"
   ]
  },
  {
   "cell_type": "code",
   "execution_count": null,
   "metadata": {},
   "outputs": [],
   "source": [
    "from dataloaders import mias_dataset\n",
    "from model import cnn_autoencoder\n",
    "from gaussian_noise_transform import GaussianNoise"
   ]
  },
  {
   "cell_type": "code",
   "execution_count": null,
   "metadata": {},
   "outputs": [],
   "source": [
    "device = torch.device(\"cuda:0\" if torch.cuda.is_available() else \"cpu\")\n",
    "print(device)"
   ]
  },
  {
   "cell_type": "code",
   "execution_count": null,
   "metadata": {},
   "outputs": [],
   "source": [
    "clean_transform = transforms.Compose([ \n",
    "                                     ])\n",
    "\n",
    "noise_transform = transforms.Compose([GaussianNoise(0,0.005), ## add gaussian noise of mean 0 var 0.01\n",
    "                                     ])"
   ]
  },
  {
   "cell_type": "code",
   "execution_count": null,
   "metadata": {},
   "outputs": [],
   "source": [
    "mias_train_data = torch.load('mias_train.pt')\n",
    "mias_dataset_ = mias_dataset(mias_train_data, clean_transform, noise_transform)\n",
    "mias_data_loader = DataLoader(dataset=mias_dataset_, batch_size=10, shuffle=True) "
   ]
  },
  {
   "cell_type": "code",
   "execution_count": null,
   "metadata": {},
   "outputs": [],
   "source": [
    "mias_clean_test = torch.load('mias_clean_test.pt')\n",
    "mias_noisy_test = torch.load('mias_noisy_test.pt')\n",
    "mias_clean_test = mias_clean_test.float()\n",
    "mias_noisy_test = mias_noisy_test.float()\n",
    "mias_clean_test = mias_clean_test.to(device)\n",
    "mias_noisy_test = mias_noisy_test.to(device);"
   ]
  },
  {
   "cell_type": "code",
   "execution_count": null,
   "metadata": {},
   "outputs": [],
   "source": [
    "mias_net = cnn_autoencoder()\n",
    "mias_net.to(device)\n",
    "criterion = nn.BCELoss()\n",
    "optimizer = optim.Adam(mias_net.parameters(), lr=0.001)\n",
    "mias_net.train()"
   ]
  },
  {
   "cell_type": "code",
   "execution_count": null,
   "metadata": {},
   "outputs": [],
   "source": [
    "for epoch in range(1000):\n",
    "    \n",
    "    running_train_loss = 0\n",
    "    counter = 0\n",
    "    for clean, noisy in mias_data_loader:\n",
    "        \n",
    "        clean = clean.to(device)\n",
    "        noisy = noisy.to(device)\n",
    "        \n",
    "        optimizer.zero_grad()\n",
    "        output = mias_net(noisy.float())\n",
    "        train_loss = criterion(output, clean.float())\n",
    "        train_loss.backward()\n",
    "        optimizer.step()\n",
    "        running_train_loss += train_loss.item()\n",
    "        counter += 1\n",
    "    \n",
    "    if (epoch+1) % 10 == 0:\n",
    "        mias_net.eval()\n",
    "        test_output = mias_net(mias_noisy_test)\n",
    "        test_loss = criterion(test_output, mias_clean_test)\n",
    "        test_loss = test_loss.item()\n",
    "        mias_net.train()\n",
    "        print(\"Epoch: {:d}, train loss: {:f}, test loss {:f}\".format(epoch, running_train_loss/counter, test_loss))"
   ]
  },
  {
   "cell_type": "markdown",
   "metadata": {},
   "source": [
    "### Plot NN denoised predictions versus ground truths"
   ]
  },
  {
   "cell_type": "code",
   "execution_count": null,
   "metadata": {},
   "outputs": [],
   "source": [
    "test_pred = mias_net(mias_noisy_test)\n",
    "\n",
    "for i in range(len(test_pred)):\n",
    "  test_img = mias_noisy_test[i].squeeze().cpu().numpy()\n",
    "  test_pred_img = test_pred[i].squeeze().cpu().detach().numpy()\n",
    "  clean_img = mias_clean_test[i].squeeze().cpu().numpy()\n",
    "\n",
    "  fig, (ax1, ax2, ax3) = plt.subplots(1,3, figsize=(7,21))\n",
    "  ax1.imshow(test_img, cmap='gray')\n",
    "  ax2.imshow(test_pred_img, cmap='gray')\n",
    "  ax3.imshow(clean_img, cmap='gray')\n",
    "  plt.show()"
   ]
  }
 ],
 "metadata": {
  "kernelspec": {
   "display_name": "Python 3",
   "language": "python",
   "name": "python3"
  },
  "language_info": {
   "codemirror_mode": {
    "name": "ipython",
    "version": 3
   },
   "file_extension": ".py",
   "mimetype": "text/x-python",
   "name": "python",
   "nbconvert_exporter": "python",
   "pygments_lexer": "ipython3",
   "version": "3.8.3"
  }
 },
 "nbformat": 4,
 "nbformat_minor": 4
}
